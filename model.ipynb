{
 "nbformat": 4,
 "nbformat_minor": 0,
 "metadata": {
  "colab": {
   "provenance": []
  },
  "kernelspec": {
   "name": "python3",
   "language": "python",
   "display_name": "Python 3 (ipykernel)"
  },
  "language_info": {
   "name": "python"
  }
 },
 "cells": [
  {
   "cell_type": "code",
   "metadata": {
    "colab": {
     "base_uri": "https://localhost:8080/"
    },
    "id": "6FunDcOluaPh",
    "outputId": "36c6690b-69cb-44c3-cf1c-51a13a6b761e",
    "ExecuteTime": {
     "end_time": "2025-01-22T03:48:20.399447700Z",
     "start_time": "2025-01-22T03:48:16.549958900Z"
    }
   },
   "source": [
    "# install DGL in Colab\n",
    "!pip install dgl -f https://data.dgl.ai/wheels/repo.html"
   ],
   "execution_count": 10,
   "outputs": [
    {
     "name": "stdout",
     "output_type": "stream",
     "text": [
      "Looking in indexes: https://pypi.org/simple, https://pypi.ngc.nvidia.com\n",
      "Looking in links: https://data.dgl.ai/wheels/repo.html\n",
      "Requirement already satisfied: dgl in c:\\users\\lenovo\\desktop\\ck\\project\\lib\\site-packages (1.1.0)\n",
      "Requirement already satisfied: numpy>=1.14.0 in c:\\users\\lenovo\\desktop\\ck\\project\\lib\\site-packages (from dgl) (2.1.3)\n",
      "Requirement already satisfied: scipy>=1.1.0 in c:\\users\\lenovo\\desktop\\ck\\project\\lib\\site-packages (from dgl) (1.15.0)\n",
      "Requirement already satisfied: networkx>=2.1 in c:\\users\\lenovo\\desktop\\ck\\project\\lib\\site-packages (from dgl) (3.4.2)\n",
      "Requirement already satisfied: requests>=2.19.0 in c:\\users\\lenovo\\desktop\\ck\\project\\lib\\site-packages (from dgl) (2.32.3)\n",
      "Requirement already satisfied: tqdm in c:\\users\\lenovo\\desktop\\ck\\project\\lib\\site-packages (from dgl) (4.67.1)\n",
      "Requirement already satisfied: psutil>=5.8.0 in c:\\users\\lenovo\\desktop\\ck\\project\\lib\\site-packages (from dgl) (6.1.1)\n",
      "Requirement already satisfied: charset-normalizer<4,>=2 in c:\\users\\lenovo\\desktop\\ck\\project\\lib\\site-packages (from requests>=2.19.0->dgl) (3.4.1)\n",
      "Requirement already satisfied: idna<4,>=2.5 in c:\\users\\lenovo\\desktop\\ck\\project\\lib\\site-packages (from requests>=2.19.0->dgl) (3.10)\n",
      "Requirement already satisfied: urllib3<3,>=1.21.1 in c:\\users\\lenovo\\desktop\\ck\\project\\lib\\site-packages (from requests>=2.19.0->dgl) (2.3.0)\n",
      "Requirement already satisfied: certifi>=2017.4.17 in c:\\users\\lenovo\\desktop\\ck\\project\\lib\\site-packages (from requests>=2.19.0->dgl) (2024.12.14)\n",
      "Requirement already satisfied: colorama in c:\\users\\lenovo\\desktop\\ck\\project\\lib\\site-packages (from tqdm->dgl) (0.4.6)\n"
     ]
    }
   ]
  },
  {
   "cell_type": "code",
   "metadata": {
    "id": "xgX74djxx08W",
    "colab": {
     "base_uri": "https://localhost:8080/"
    },
    "outputId": "31422415-0143-4250-a650-875a8b79095c",
    "ExecuteTime": {
     "end_time": "2025-01-22T03:48:20.404450300Z",
     "start_time": "2025-01-22T03:48:20.393664200Z"
    }
   },
   "source": [
    "import numpy as np\n",
    "import torch\n",
    "import torch.nn as nn\n",
    "import torch.nn.functional as F\n",
    "import itertools\n",
    "import numpy as np\n",
    "import scipy.sparse as sp\n",
    "import dgl"
   ],
   "execution_count": 11,
   "outputs": []
  },
  {
   "cell_type": "code",
   "metadata": {
    "colab": {
     "base_uri": "https://localhost:8080/"
    },
    "id": "-DmVVxhKIzxz",
    "outputId": "41010f6b-8a0f-4117-9bea-3cebc1381435",
    "ExecuteTime": {
     "end_time": "2025-01-22T03:48:20.483558600Z",
     "start_time": "2025-01-22T03:48:20.404450300Z"
    }
   },
   "source": [
    "!wget http://snap.stanford.edu/data/facebook.tar.gz\n",
    "!tar -xvf \"facebook.tar.gz\""
   ],
   "execution_count": 12,
   "outputs": [
    {
     "name": "stderr",
     "output_type": "stream",
     "text": [
      "'wget' is not recognized as an internal or external command,\n",
      "operable program or batch file.\n",
      "tar: Error opening archive: Failed to open 'facebook.tar.gz'\n"
     ]
    }
   ]
  },
  {
   "cell_type": "code",
   "metadata": {
    "id": "CURrSLeNPTmV",
    "colab": {
     "base_uri": "https://localhost:8080/"
    },
    "outputId": "64a0701a-ec48-42f5-fb4a-477baf194321",
    "ExecuteTime": {
     "end_time": "2025-01-22T03:48:20.561033900Z",
     "start_time": "2025-01-22T03:48:20.461548900Z"
    }
   },
   "source": [
    "# user id, which correspond to file name prefix\n",
    "USER = 0\n",
    "\n",
    "file_edges = f'facebook/{USER}.edges'\n",
    "file_feat = f'facebook/{USER}.feat'\n",
    "\n",
    "edges_u, edges_v = [], []\n",
    "\n",
    "with open(file_edges) as f:\n",
    "    for line in f:\n",
    "        e1, e2 = tuple(int(x) - 1 for x in line.split())\n",
    "        edges_u.append(e1)\n",
    "        edges_v.append(e2)\n",
    "\n",
    "edges_u, edges_v = np.array(edges_u), np.array(edges_v)\n",
    "\n",
    "num_nodes = 0\n",
    "feats = []  \n",
    "\n",
    "with open(file_feat) as f:  \n",
    "    for line in f:\n",
    "        num_nodes += 1\n",
    "        a = [int(x) for x in line.split()[1:]] \n",
    "        feats.append(torch.tensor(a, dtype=torch.float))\n",
    "\n",
    "feats = torch.stack(feats)\n",
    "\n",
    "g = dgl.graph((edges_u, edges_v))  # construct graph\n",
    "g.ndata['feat'] = feats\n",
    "\n",
    "g  # print graph metadata"
   ],
   "execution_count": 13,
   "outputs": [
    {
     "data": {
      "text/plain": "Graph(num_nodes=347, num_edges=5038,\n      ndata_schemes={'feat': Scheme(shape=(224,), dtype=torch.float32)}\n      edata_schemes={})"
     },
     "execution_count": 13,
     "metadata": {},
     "output_type": "execute_result"
    }
   ]
  },
  {
   "cell_type": "code",
   "metadata": {
    "id": "toeZj52TVDeR",
    "colab": {
     "base_uri": "https://localhost:8080/",
     "height": 319
    },
    "outputId": "5124b0d4-8387-4be6-d22b-d15df460ce13",
    "ExecuteTime": {
     "end_time": "2025-01-22T03:48:23.576528300Z",
     "start_time": "2025-01-22T03:48:20.508030500Z"
    }
   },
   "source": [
    "import networkx as nx\n",
    "\n",
    "G = nx.Graph()\n",
    "G.add_nodes_from(set(edges_u + edges_v))\n",
    "G.add_edges_from(zip(edges_u, edges_v))\n",
    "\n",
    "nx.draw(G, node_size=0)"
   ],
   "execution_count": 14,
   "outputs": [
    {
     "data": {
      "text/plain": "<Figure size 640x480 with 1 Axes>",
      "image/png": "[encoded data removed]"
     },
     "metadata": {},
     "output_type": "display_data"
    }
   ]
  },
  {
   "cell_type": "code",
   "metadata": {
    "id": "DL6aBJg2xIoc",
    "ExecuteTime": {
     "end_time": "2025-01-22T03:48:23.591492100Z",
     "start_time": "2025-01-22T03:48:23.580525200Z"
    }
   },
   "source": [
    "TEST_RATIO = 0.3  \n",
    "\n",
    "u, v = g.edges()\n",
    "\n",
    "eids = np.arange(g.number_of_edges())\n",
    "eids = np.random.permutation(eids)\n",
    "test_size = int(len(eids) * TEST_RATIO) \n",
    "train_size = g.number_of_edges() - test_size  \n",
    "\n",
    "test_pos_u, test_pos_v = u[eids[:test_size]], v[eids[:test_size]]\n",
    "train_pos_u, train_pos_v = u[eids[test_size:]], v[eids[test_size:]]\n",
    "\n",
    "adj = sp.coo_matrix((np.ones(len(u)), (u.numpy(), v.numpy())))\n",
    "adj_neg = 1 - adj.todense() - np.eye(g.number_of_nodes())\n",
    "neg_u, neg_v = np.where(adj_neg != 0)\n",
    "\n",
    "neg_eids = np.random.choice(len(neg_u), g.number_of_edges())\n",
    "test_neg_u, test_neg_v = neg_u[neg_eids[:test_size]], neg_v[neg_eids[:test_size]]\n",
    "train_neg_u, train_neg_v = neg_u[neg_eids[test_size:]], neg_v[neg_eids[test_size:]]\n",
    "\n",
    "\n",
    "train_pos_g = dgl.graph((train_pos_u, train_pos_v), num_nodes=g.number_of_nodes())\n",
    "train_neg_g = dgl.graph((train_neg_u, train_neg_v), num_nodes=g.number_of_nodes())\n",
    "\n",
    "test_pos_g = dgl.graph((test_pos_u, test_pos_v), num_nodes=g.number_of_nodes())\n",
    "test_neg_g = dgl.graph((test_neg_u, test_neg_v), num_nodes=g.number_of_nodes())\n",
    "\n",
    "train_g = dgl.remove_edges(g, eids[:test_size])\n",
    "train_g = dgl.add_self_loop(train_g)"
   ],
   "execution_count": 15,
   "outputs": []
  },
  {
   "cell_type": "code",
   "metadata": {
    "id": "UqkZIiV_xLSs",
    "ExecuteTime": {
     "end_time": "2025-01-22T03:48:23.604101Z",
     "start_time": "2025-01-22T03:48:23.599510300Z"
    }
   },
   "source": [
    "from dgl.nn.pytorch import SAGEConv\n",
    "from dgl.nn.pytorch import GraphConv\n",
    "\n",
    "\n",
    "class GCN(nn.Module):\n",
    "    def __init__(self, in_feats, h_feats, out_feats):\n",
    "        super(GCN, self).__init__()\n",
    "        self.conv1 = GraphConv(in_feats, h_feats)  \n",
    "        self.conv2 = GraphConv(h_feats, h_feats)   \n",
    "        self.conv3 = GraphConv(h_feats, out_feats) \n",
    "\n",
    "    def forward(self, g, in_feat):\n",
    "        h = self.conv1(g, in_feat)\n",
    "        h = F.relu(h)\n",
    "        h = self.conv2(g, h)\n",
    "        h = F.relu(h)\n",
    "        h = self.conv3(g, h)\n",
    "        return h\n",
    "\n",
    "class GraphSAGE(nn.Module):\n",
    "    def __init__(self, in_feats, h_feats):\n",
    "        super(GraphSAGE, self).__init__()\n",
    "        self.conv1 = SAGEConv(in_feats, h_feats, 'mean')\n",
    "        self.conv2 = SAGEConv(h_feats, h_feats, 'mean')\n",
    "\n",
    "    def forward(self, g, in_feat):\n",
    "        h = self.conv1(g, in_feat)\n",
    "        h = F.relu(h)\n",
    "        h = self.conv2(g, h)\n",
    "        return h\n",
    "\n",
    "\n",
    "import dgl.function as fn\n",
    "\n",
    "class DotPredictor(nn.Module):\n",
    "    def forward(self, g, h):\n",
    "        with g.local_scope():\n",
    "            g.ndata['h'] = h\n",
    "            g.apply_edges(fn.u_dot_v('h', 'h', 'score'))\n",
    "            return g.edata['score'][:, 0]\n"
   ],
   "execution_count": 16,
   "outputs": []
  },
  {
   "cell_type": "code",
   "metadata": {
    "id": "nzG_l64dxQ5S",
    "ExecuteTime": {
     "end_time": "2025-01-22T03:48:23.715818300Z",
     "start_time": "2025-01-22T03:48:23.610091900Z"
    }
   },
   "source": [
    "\n",
    "\n",
    "def pipeline(model_name='GCN', hidden_size=16, out_size=16):\n",
    "    if model_name == 'GCN':\n",
    "        model = GCN(train_g.ndata['feat'].shape[1], hidden_size, out_size)\n",
    "    elif model_name == 'SAGE':\n",
    "        model = GraphSAGE(train_g.ndata['feat'].shape[1], hidden_size)\n",
    "\n",
    "    pred = DotPredictor()\n",
    "\n",
    "    def compute_loss(pos_score, neg_score):\n",
    "        scores = torch.cat([pos_score, neg_score])\n",
    "        labels = torch.cat([torch.ones(pos_score.shape[0]), torch.zeros(neg_score.shape[0])])\n",
    "        return F.binary_cross_entropy_with_logits(scores, labels)\n",
    "\n",
    "    def compute_auc(pos_score, neg_score):\n",
    "        scores = torch.cat([pos_score, neg_score]).numpy()\n",
    "        labels = torch.cat(\n",
    "            [torch.ones(pos_score.shape[0]), torch.zeros(neg_score.shape[0])]).numpy()\n",
    "        return roc_auc_score(labels, scores)\n",
    "\n",
    "    # ----------- loss và optimizer -------------- #\n",
    "    optimizer = torch.optim.Adam(itertools.chain(model.parameters(), pred.parameters()), lr=0.01)\n",
    "\n",
    "\n",
    "    all_logits = []\n",
    "    for e in range(100):\n",
    "        # forward\n",
    "        h = model(train_g, train_g.ndata['feat'])  # lấy embeddings của các nút\n",
    "        pos_score = pred(train_pos_g, h)\n",
    "        neg_score = pred(train_neg_g, h)\n",
    "        loss = compute_loss(pos_score, neg_score)\n",
    "\n",
    "        # backward\n",
    "        optimizer.zero_grad()\n",
    "        loss.backward()\n",
    "        optimizer.step()\n",
    "\n",
    "        if e % 5 == 0:\n",
    "            print('Epoch {}, loss: {}'.format(e, loss))\n",
    "\n",
    "    # ----------- kiểm tra kết quả ---------------- #\n",
    "    from sklearn.metrics import roc_auc_score\n",
    "    with torch.no_grad():\n",
    "        pos_score = pred(test_pos_g, h)\n",
    "        neg_score = pred(test_neg_g, h)\n",
    "        print('AUC', compute_auc(pos_score, neg_score))\n",
    "\n",
    "    return h  # trả về node embeddings\n",
    "\n"
   ],
   "execution_count": 17,
   "outputs": []
  },
  {
   "cell_type": "markdown",
   "metadata": {
    "id": "GnMhM7PTwwXk"
   },
   "source": [
    "### Training and testing GCN:"
   ]
  },
  {
   "cell_type": "code",
   "metadata": {
    "colab": {
     "base_uri": "https://localhost:8080/"
    },
    "id": "o2a67Jr2_CpI",
    "outputId": "39ab1274-5be9-4413-ec4e-459279bf8ec4",
    "ExecuteTime": {
     "end_time": "2025-01-22T03:48:28.190292800Z",
     "start_time": "2025-01-22T03:48:23.615825600Z"
    }
   },
   "source": [
    "h = pipeline(\"GCN\")"
   ],
   "execution_count": 18,
   "outputs": [
    {
     "name": "stderr",
     "output_type": "stream",
     "text": [
      "C:\\Users\\Lenovo\\Desktop\\ck\\project\\Lib\\site-packages\\dgl\\backend\\pytorch\\tensor.py:449: UserWarning: TypedStorage is deprecated. It will be removed in the future and UntypedStorage will be the only storage class. This should only matter to you if you are using storages directly.  To access UntypedStorage directly, use tensor.untyped_storage() instead of tensor.storage()\n",
      "  assert input.numel() == input.storage().size(), (\n"
     ]
    },
    {
     "name": "stdout",
     "output_type": "stream",
     "text": [
      "Epoch 0, loss: 0.6825820803642273\n",
      "Epoch 5, loss: 0.601263701915741\n",
      "Epoch 10, loss: 0.5194957256317139\n",
      "Epoch 15, loss: 0.4987867772579193\n",
      "Epoch 20, loss: 0.47313207387924194\n",
      "Epoch 25, loss: 0.4683798551559448\n",
      "Epoch 30, loss: 0.46426862478256226\n",
      "Epoch 35, loss: 0.45829877257347107\n",
      "Epoch 40, loss: 0.4549350142478943\n",
      "Epoch 45, loss: 0.4527356028556824\n",
      "Epoch 50, loss: 0.45009252429008484\n",
      "Epoch 55, loss: 0.44828033447265625\n",
      "Epoch 60, loss: 0.4459567666053772\n",
      "Epoch 65, loss: 0.44351840019226074\n",
      "Epoch 70, loss: 0.4410499334335327\n",
      "Epoch 75, loss: 0.4384424686431885\n",
      "Epoch 80, loss: 0.43548762798309326\n",
      "Epoch 85, loss: 0.4317610263824463\n",
      "Epoch 90, loss: 0.4274199903011322\n",
      "Epoch 95, loss: 0.4253356456756592\n",
      "AUC 0.9352776309271387\n"
     ]
    }
   ]
  },
  {
   "cell_type": "markdown",
   "metadata": {
    "id": "XV1RZcEow7D8"
   },
   "source": [
    "### Training and testing SAGE:"
   ]
  },
  {
   "cell_type": "code",
   "metadata": {
    "colab": {
     "base_uri": "https://localhost:8080/"
    },
    "id": "i03FVEP5_adS",
    "outputId": "12064ca8-4882-4df2-d364-98eee8c209d0",
    "ExecuteTime": {
     "end_time": "2025-01-22T03:48:29.384223Z",
     "start_time": "2025-01-22T03:48:28.183294500Z"
    }
   },
   "source": [
    "h = pipeline(\"SAGE\")"
   ],
   "execution_count": 19,
   "outputs": [
    {
     "name": "stdout",
     "output_type": "stream",
     "text": [
      "Epoch 0, loss: 1.8350573778152466\n",
      "Epoch 5, loss: 0.6589620113372803\n",
      "Epoch 10, loss: 0.6283072829246521\n",
      "Epoch 15, loss: 0.5901339054107666\n",
      "Epoch 20, loss: 0.552445650100708\n",
      "Epoch 25, loss: 0.5198664665222168\n",
      "Epoch 30, loss: 0.4977782368659973\n",
      "Epoch 35, loss: 0.4859451353549957\n",
      "Epoch 40, loss: 0.4770163893699646\n",
      "Epoch 45, loss: 0.4689989984035492\n",
      "Epoch 50, loss: 0.4618234634399414\n",
      "Epoch 55, loss: 0.4554063081741333\n",
      "Epoch 60, loss: 0.4492294192314148\n",
      "Epoch 65, loss: 0.44328582286834717\n",
      "Epoch 70, loss: 0.43797340989112854\n",
      "Epoch 75, loss: 0.4329952597618103\n",
      "Epoch 80, loss: 0.4281344711780548\n",
      "Epoch 85, loss: 0.4234820604324341\n",
      "Epoch 90, loss: 0.41892993450164795\n",
      "Epoch 95, loss: 0.4144465923309326\n",
      "AUC 0.9090170866984272\n"
     ]
    }
   ]
  },
  {
   "cell_type": "code",
   "metadata": {
    "id": "3yTYJKHtfvsh",
    "ExecuteTime": {
     "end_time": "2025-01-22T03:48:29.386230400Z",
     "start_time": "2025-01-22T03:48:29.374822200Z"
    }
   },
   "source": [
    "# --------- generate recommendation for user -------- #\n",
    "def generate_rec(h, user_id=0):\n",
    "    # `h` represents the node embeddings, with shape [num_nodes, hidden_size]\n",
    "\n",
    "    # generate a graph with (num_nodes - num_friends_of_user) edges\n",
    "    # one end of the edge is user_id\n",
    "    # the other end is a user that's NOT friends with user_id\n",
    "    user_friends = set()\n",
    "    user_neg_u, user_neg_v = [], []\n",
    "    for n1, n2 in zip(u, v):   # get all friends of user_id\n",
    "        if int(n1) == user_id:\n",
    "            user_friends.add(int(n2))\n",
    "        if int(n2) == user_id:\n",
    "            user_friends.add(int(n1))\n",
    "\n",
    "    for i in range(num_nodes):  # generate \"negative edges\" for user_id\n",
    "        if i != user_id and i not in user_friends:\n",
    "            user_neg_u.append(user_id)\n",
    "            user_neg_v.append(i)\n",
    "\n",
    "    user_g = dgl.graph((user_neg_u, user_neg_v), num_nodes=g.number_of_nodes())\n",
    "\n",
    "    pred = DotPredictor()\n",
    "\n",
    "    # calculate the score of each user\n",
    "    scores = [(i, score) for i, score in enumerate(pred(user_g, h))]\n",
    "\n",
    "    # produce final ranked list\n",
    "    scores.sort(key=lambda x: -x[1])\n",
    "\n",
    "    # display results\n",
    "    print(f\"List of 5 suggested friends for user {user_id}:\")\n",
    "    for i in range(5):\n",
    "        print(f'- User {scores[i][0]}, score = {scores[i][1]}')\n"
   ],
   "execution_count": 20,
   "outputs": []
  },
  {
   "cell_type": "code",
   "metadata": {
    "colab": {
     "base_uri": "https://localhost:8080/"
    },
    "id": "BZcZlgbria0d",
    "outputId": "7a71086e-8c38-48db-f7bc-bfc376a43fec",
    "ExecuteTime": {
     "end_time": "2025-01-22T03:48:29.482596500Z",
     "start_time": "2025-01-22T03:48:29.384223Z"
    }
   },
   "source": [
    "generate_rec(h, user_id=4)"
   ],
   "execution_count": 21,
   "outputs": [
    {
     "name": "stdout",
     "output_type": "stream",
     "text": [
      "List of 5 suggested friends for user 4:\n",
      "- User 78, score = 2.5115408897399902\n",
      "- User 288, score = 2.4016377925872803\n",
      "- User 254, score = 2.22143292427063\n",
      "- User 91, score = 2.1540632247924805\n",
      "- User 306, score = 2.1484627723693848\n"
     ]
    }
   ]
  }
 ]
}
